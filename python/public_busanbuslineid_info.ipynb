{
 "cells": [
  {
   "cell_type": "code",
   "execution_count": 1,
   "metadata": {},
   "outputs": [
    {
     "name": "stdout",
     "output_type": "stream",
     "text": [
      "조회날짜 : 20210922 순번 : 1 start 186200204 public_busanbusstts\n",
      "(186200204,) 번째부터 조회수 제한이 걸렸습니다.\n"
     ]
    }
   ],
   "source": [
    "# 부산버스정류장\n",
    "import requests, bs4\n",
    "import mysql.connector\n",
    "from lxml import html\n",
    "from urllib.request import Request,urlopen\n",
    "from urllib.parse import urlencode,quote_plus\n",
    "from bs4 import BeautifulSoup\n",
    "from xml.etree.ElementTree import parse\n",
    "from datetime import datetime\n",
    "from ServiceKey import public_serviceKey,mySQL_Connect\n",
    "\n",
    "mydb = mySQL_Connect()\n",
    "\n",
    "cursor = mydb.cursor(prepared=True)\n",
    "# 2021.09.21일 API오류로 인한 수집 실패\n",
    "query = (\"select bstopId from public_busanbusstts where 6658 <= seq and seq <= 7600\")\n",
    "\n",
    "cursor.execute(query)\n",
    "\n",
    "location_list = []\n",
    "\n",
    "for i in cursor:\n",
    "    location_list.append(i)\n",
    "    \n",
    "now = datetime.now()\n",
    "nowDate = now.strftime('%Y%m%d')\n",
    "\n",
    "cnt = 1\n",
    "for i in location_list:\n",
    "    bstopId = i\n",
    "    print(\"조회날짜 : {} 순번 : {} start {} public_busanbusstts\".format(nowDate,cnt,bstopId[0]))\n",
    "    \n",
    "    url = 'http://61.43.246.153/openapi-data/service/busanBIMS2/stopArr'\n",
    "    queryParams = '?' + urlencode({\n",
    "        quote_plus('serviceKey') : public_serviceKey(),\n",
    "        quote_plus('bstopid') : bstopId[0]\n",
    "    })\n",
    "\n",
    "    response = requests.get(url + queryParams).text.encode('utf-8')\n",
    "    xmlobj = bs4.BeautifulSoup(response, 'lxml-xml')\n",
    "\n",
    "    rows = xmlobj.findAll('item')\n",
    "    resultCode = xmlobj.findAll('resultCode')\n",
    "\n",
    "    if resultCode[0].text == '99':\n",
    "        print(\"{} 번째부터 조회수 제한이 걸렸습니다.\".format(bstopId))\n",
    "        mydb.close()\n",
    "        break\n",
    "    cnt += 1\n",
    "    for j in rows:\n",
    "        item = j\n",
    "        arsNo = item.findAll('arsNo')\n",
    "        bstopId = item.findAll('bstopId')\n",
    "        bstopIdx = item.findAll('bstopIdx')\n",
    "        bustype = item.findAll('bustype')\n",
    "        lng = item.findAll('gpsX')\n",
    "        lat = item.findAll('gpsY')\n",
    "        lineNo = item.findAll('lineNo')\n",
    "        lineid = item.findAll('lineid')\n",
    "        nodeNm = item.findAll('nodeNm')\n",
    "        \n",
    "        try:\n",
    "            sql = \"INSERT INTO travel_supplies_in_pockets.public_busanbuslineid_info (arsNo, bstopId, bstopIdx, bustype, lat, lng, lineNo, lineid, nodeNm) VALUES (?,?,?,?,?,?,?,?,?)\"\n",
    "            val = (arsNo[0].text, bstopId[0].text, bstopIdx[0].text, bustype[0].text, lat[0].text, lng[0].text, lineNo[0].text, lineid[0].text, nodeNm[0].text)\n",
    "        except IndexError:\n",
    "            print(item)\n",
    "            sql = \"INSERT INTO travel_supplies_in_pockets.public_busanbuslineid_info (arsNo, bstopId, bstopIdx, bustype, lat, lng, lineNo, lineid, nodeNm) VALUES (?,?,?,?,?,?,?,?,?)\"\n",
    "            val = (arsNo[0].text, bstopId[0].text, bstopIdx[0].text, bustype[0].text, lat[0].text, lng[0].text, lineNo[0].text, lineid[0].text, nodeNm[0].text)\n",
    "            \n",
    "        cursor.execute(sql, val)\n",
    "        mydb.commit()"
   ]
  }
 ],
 "metadata": {
  "kernelspec": {
   "display_name": "Python 3",
   "language": "python",
   "name": "python3"
  },
  "language_info": {
   "codemirror_mode": {
    "name": "ipython",
    "version": 3
   },
   "file_extension": ".py",
   "mimetype": "text/x-python",
   "name": "python",
   "nbconvert_exporter": "python",
   "pygments_lexer": "ipython3",
   "version": "3.9.0"
  }
 },
 "nbformat": 4,
 "nbformat_minor": 4
}
