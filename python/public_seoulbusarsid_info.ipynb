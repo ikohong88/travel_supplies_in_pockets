{
 "cells": [
  {
   "cell_type": "code",
   "execution_count": 1,
   "metadata": {},
   "outputs": [
    {
     "name": "stdout",
     "output_type": "stream",
     "text": [
      "조회날짜 : 20210917 | 순번 : 1 | start 삼각산동삼각산아이원아파트후문 public_seoulbusstts\n",
      "조회날짜 : 20210917 | 순번 : 2 | start 삼각산동삼각산아이원아파트후문 public_seoulbusstts\n",
      "조회날짜 : 20210917 | 순번 : 3 | start 롯데백화점미아점 public_seoulbusstts\n",
      "('롯데백화점미아점',) 번째부터 조회수 제한이 걸렸습니다.\n"
     ]
    }
   ],
   "source": [
    "# 서울버스정류장\n",
    "import requests, bs4\n",
    "import mysql.connector\n",
    "from lxml import html\n",
    "from urllib.request import Request,urlopen\n",
    "from urllib.parse import urlencode,quote_plus\n",
    "from bs4 import BeautifulSoup\n",
    "from xml.etree.ElementTree import parse\n",
    "from datetime import datetime\n",
    "from ServiceKey import public_serviceKey, mySQL_Connect\n",
    "\n",
    "mydb = mySQL_Connect()\n",
    "\n",
    "cursor = mydb.cursor(prepared=True)\n",
    "\n",
    "# 2021.09.17일 수집 완료\n",
    "query = (\"select seoulsttsName from public_seoulbusstts ps where 3086 <= seq and seq <= 4100\")\n",
    "\n",
    "cursor.execute(query)\n",
    "\n",
    "location_list = []\n",
    "\n",
    "for i in cursor:\n",
    "    location_list.append(i)\n",
    "    \n",
    "now = datetime.now()\n",
    "nowDate = now.strftime('%Y%m%d')\n",
    "\n",
    "cnt = 1\n",
    "for i in location_list:\n",
    "    seoulsttsName = i\n",
    "    \n",
    "    characters = \"(',')\"\n",
    "\n",
    "    join_data = ''.join( x for x in seoulsttsName if x not in characters)\n",
    "    print(\"조회날짜 : {} | 순번 : {} | start {} public_seoulbusstts\".format(nowDate, cnt, join_data))\n",
    "    url = 'http://ws.bus.go.kr/api/rest/stationinfo/getStationByName'\n",
    "    queryParams = '?' + urlencode({\n",
    "        quote_plus('serviceKey') : public_serviceKey(),\n",
    "        quote_plus('stSrch') : join_data\n",
    "    })\n",
    "\n",
    "    response = requests.get(url + queryParams).text.encode('utf-8')\n",
    "    xmlobj = bs4.BeautifulSoup(response, 'lxml-xml')\n",
    "\n",
    "    rows = xmlobj.findAll('itemList')\n",
    "    resultCode = xmlobj.findAll('headerCd')\n",
    "\n",
    "    if resultCode[0].text == '7':\n",
    "        print(\"{} 번째부터 조회수 제한이 걸렸습니다.\".format(seoulsttsName))\n",
    "        mydb.close()\n",
    "        break\n",
    "    cnt += 1\n",
    "    for j in rows:\n",
    "        item = j\n",
    "        arsId = item.findAll('arsId')\n",
    "        stId = item.findAll('stId')\n",
    "        stNm = item.findAll('stNm')\n",
    "        lat = item.findAll('tmY')\n",
    "        lng = item.findAll('tmX')\n",
    "        \n",
    "        try:\n",
    "            sql = \"INSERT INTO public_seoulbusarsid_info (arsId, stId, stNm, lat, lng) VALUES (?,?,?,?,?)\"\n",
    "            val = (arsId[0].text, stId[0].text, stNm[0].text, lat[0].text, lng[0].text)\n",
    "        except IndexError:\n",
    "            print(item)\n",
    "            sql = \"INSERT INTO public_seoulbusarsid_info (arsId, stId, stNm, lat, lng) VALUES (?,?,?,?,?)\"\n",
    "            val = (arsId[0].text, stId[0].text, stNm[0].text, lat[0].text, lng[0].text)\n",
    "            \n",
    "        cursor.execute(sql, val)\n",
    "        mydb.commit()"
   ]
  }
 ],
 "metadata": {
  "kernelspec": {
   "display_name": "Python 3",
   "language": "python",
   "name": "python3"
  },
  "language_info": {
   "codemirror_mode": {
    "name": "ipython",
    "version": 3
   },
   "file_extension": ".py",
   "mimetype": "text/x-python",
   "name": "python",
   "nbconvert_exporter": "python",
   "pygments_lexer": "ipython3",
   "version": "3.9.0"
  }
 },
 "nbformat": 4,
 "nbformat_minor": 4
}
